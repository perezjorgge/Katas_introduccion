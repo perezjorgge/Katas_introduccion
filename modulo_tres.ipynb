{
 "cells": [
  {
   "cell_type": "code",
   "execution_count": 5,
   "metadata": {},
   "outputs": [
    {
     "name": "stdout",
     "output_type": "stream",
     "text": [
      "Cuidado! Asteroide a velocidad\n"
     ]
    }
   ],
   "source": [
    "asteroide = 49 # un asteroide viaja a la velocidad de 49 km/s\n",
    "\n",
    "if asteroide > 25 :\n",
    "    print('Cuidado! Asteroide a velocidad')\n",
    "else:\n",
    "        print('No hay de que preocuparse')\n"
   ]
  },
  {
   "cell_type": "code",
   "execution_count": 11,
   "metadata": {},
   "outputs": [
    {
     "name": "stdout",
     "output_type": "stream",
     "text": [
      "¡Mira al cielo para ver el asteroide!\n"
     ]
    }
   ],
   "source": [
    "asteroide = 20 # un asteroide viaja a la velocidad de 20 km/s\n",
    "\n",
    "if asteroide > 20 :\n",
    "    print (\"¡Mira al cielo para ver el asteroide!\")\n",
    "elif asteroide == 20 :\n",
    "    print (\"¡Mira al cielo para ver el asteroide!\")\n",
    "else :\n",
    "    print (\"No podras ver el asteroide =(\")"
   ]
  },
  {
   "cell_type": "code",
   "execution_count": 16,
   "metadata": {},
   "outputs": [
    {
     "name": "stdout",
     "output_type": "stream",
     "text": [
      "Tenga un bonito dia. :)\n"
     ]
    }
   ],
   "source": [
    "velocidad_asteroide = 38\n",
    "tamano_asteroide = 15\n",
    "\n",
    "if tamano_asteroide > 25 and velocidad_asteroide > 25 :\n",
    "    print ('¡Corran por sus vidas!')\n",
    "elif tamano_asteroide < 25 :\n",
    "    print('Tenga un bonito dia. :)')\n"
   ]
  }
 ],
 "metadata": {
  "interpreter": {
   "hash": "de22697e2415ca3dd4e8c2a47c86c6c2bebe63a7197693dbc3f761e4182359d1"
  },
  "kernelspec": {
   "display_name": "Python 3.9.10 64-bit (windows store)",
   "language": "python",
   "name": "python3"
  },
  "language_info": {
   "codemirror_mode": {
    "name": "ipython",
    "version": 3
   },
   "file_extension": ".py",
   "mimetype": "text/x-python",
   "name": "python",
   "nbconvert_exporter": "python",
   "pygments_lexer": "ipython3",
   "version": "3.9.10"
  },
  "orig_nbformat": 4
 },
 "nbformat": 4,
 "nbformat_minor": 2
}
